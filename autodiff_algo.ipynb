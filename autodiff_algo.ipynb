{
  "nbformat": 4,
  "nbformat_minor": 0,
  "metadata": {
    "colab": {
      "provenance": []
    },
    "kernelspec": {
      "name": "python3",
      "display_name": "Python 3"
    },
    "language_info": {
      "name": "python"
    }
  },
  "cells": [
    {
      "cell_type": "code",
      "execution_count": 202,
      "metadata": {
        "colab": {
          "base_uri": "https://localhost:8080/"
        },
        "id": "5NF_22jfbzLa",
        "outputId": "39ee4a85-54b0-4406-d0ef-e58f5c0d8dc6"
      },
      "outputs": [
        {
          "output_type": "stream",
          "name": "stdout",
          "text": [
            "done\n"
          ]
        }
      ],
      "source": [
        "import torch as pt\n",
        "%matplotlib inline\n",
        "import matplotlib.pyplot as plt\n",
        "plt.rcParams['figure.figsize'] = (15, 8)\n",
        "pt.manual_seed(42)\n",
        "\n",
        "\n",
        "print('done')"
      ]
    },
    {
      "cell_type": "markdown",
      "source": [
        "\n",
        "\n",
        "\n",
        "\n",
        "ᵅ\n",
        "α\n",
        "β\n",
        "\n",
        "\n"
      ],
      "metadata": {
        "id": "zRyfTnygenM6"
      }
    },
    {
      "cell_type": "code",
      "source": [
        "X = pt.linspace(-5,5,50)\n",
        "X"
      ],
      "metadata": {
        "colab": {
          "base_uri": "https://localhost:8080/"
        },
        "id": "jrQ5n3QefqZS",
        "outputId": "cfaf5c17-14f0-4ad6-be1b-59eec2e8d55d"
      },
      "execution_count": 203,
      "outputs": [
        {
          "output_type": "execute_result",
          "data": {
            "text/plain": [
              "tensor([-5.0000, -4.7959, -4.5918, -4.3878, -4.1837, -3.9796, -3.7755, -3.5714,\n",
              "        -3.3673, -3.1633, -2.9592, -2.7551, -2.5510, -2.3469, -2.1429, -1.9388,\n",
              "        -1.7347, -1.5306, -1.3265, -1.1224, -0.9184, -0.7143, -0.5102, -0.3061,\n",
              "        -0.1020,  0.1020,  0.3061,  0.5102,  0.7143,  0.9184,  1.1224,  1.3265,\n",
              "         1.5306,  1.7347,  1.9388,  2.1429,  2.3469,  2.5510,  2.7551,  2.9592,\n",
              "         3.1633,  3.3673,  3.5714,  3.7755,  3.9796,  4.1837,  4.3878,  4.5918,\n",
              "         4.7959,  5.0000])"
            ]
          },
          "metadata": {},
          "execution_count": 203
        }
      ]
    },
    {
      "cell_type": "code",
      "source": [
        "y = 2. *X + pt.randn(len(X))\n",
        "y"
      ],
      "metadata": {
        "colab": {
          "base_uri": "https://localhost:8080/"
        },
        "id": "ggw_98kdf-QJ",
        "outputId": "d7d07c54-9472-4f5d-f04c-52828a85f1a4"
      },
      "execution_count": 204,
      "outputs": [
        {
          "output_type": "execute_result",
          "data": {
            "text/plain": [
              "tensor([ -8.0731,  -8.1046,  -8.2830, -10.8810,  -7.6889,  -9.1937,  -7.5941,\n",
              "         -8.7475,  -7.4868,  -4.6778,  -6.3108,  -6.9138,  -5.8299,  -5.2533,\n",
              "         -5.0546,  -3.1151,  -1.8271,  -3.2208,  -3.1505,  -1.8053,  -2.5949,\n",
              "         -0.3503,  -0.2196,   1.0684,   1.0750,   1.5005,   1.2227,   2.3551,\n",
              "          1.1969,   1.8785,   1.9933,   3.5129,   1.6766,   2.5982,   3.9556,\n",
              "          4.8115,   4.2059,   6.2934,   4.6962,   5.1824,   5.4894,   5.8123,\n",
              "          7.0794,   8.2266,   7.8614,  10.2119,   7.5910,  10.5672,   8.3894,\n",
              "         10.7078])"
            ]
          },
          "metadata": {},
          "execution_count": 204
        }
      ]
    },
    {
      "cell_type": "code",
      "source": [
        "plt.scatter(X,y)\n",
        "plt.plot(X, 2*X, color='red')"
      ],
      "metadata": {
        "colab": {
          "base_uri": "https://localhost:8080/",
          "height": 500
        },
        "id": "Gf4vhxsagNhp",
        "outputId": "ac9afa49-f1e0-444f-f588-e68ea6aa0981"
      },
      "execution_count": 205,
      "outputs": [
        {
          "output_type": "execute_result",
          "data": {
            "text/plain": [
              "[<matplotlib.lines.Line2D at 0x7fcbfc191d50>]"
            ]
          },
          "metadata": {},
          "execution_count": 205
        },
        {
          "output_type": "display_data",
          "data": {
            "text/plain": [
              "<Figure size 1080x576 with 1 Axes>"
            ],
            "image/png": "[encoded data removed]"
          },
          "metadata": {
            "needs_background": "light"
          }
        }
      ]
    },
    {
      "cell_type": "markdown",
      "source": [
        "## some aspects of deep learning...\n",
        "estimating the slope of the red line.\n",
        "using **gradient descent** on the blue points."
      ],
      "metadata": {
        "id": "qReo-Ems1My0"
      }
    },
    {
      "cell_type": "code",
      "source": [
        "w = pt.empty(1)\n",
        "w = pt.empty(1, requires_grad=True) # new\n",
        "w = pt.nn.init.uniform(w,-1,1)\n",
        "w"
      ],
      "metadata": {
        "colab": {
          "base_uri": "https://localhost:8080/"
        },
        "id": "fnpR1uIr1XCK",
        "outputId": "d4e67516-a74e-4c90-ee6d-b80b9efaee3b"
      },
      "execution_count": 206,
      "outputs": [
        {
          "output_type": "stream",
          "name": "stderr",
          "text": [
            "/usr/local/lib/python3.7/dist-packages/ipykernel_launcher.py:3: UserWarning: nn.init.uniform is now deprecated in favor of nn.init.uniform_.\n",
            "  This is separate from the ipykernel package so we can avoid doing imports until\n"
          ]
        },
        {
          "output_type": "execute_result",
          "data": {
            "text/plain": [
              "tensor([0.8294], requires_grad=True)"
            ]
          },
          "metadata": {},
          "execution_count": 206
        }
      ]
    },
    {
      "cell_type": "markdown",
      "source": [
        "define a forward function to return an estimate of y from X and w."
      ],
      "metadata": {
        "id": "RhZN45-p24eL"
      }
    },
    {
      "cell_type": "code",
      "source": [
        "def forward(X,y):\n",
        "    y_pred = X * w\n",
        "    return y_pred\n",
        "\n",
        "z = forward(X,w)\n"
      ],
      "metadata": {
        "id": "wBPlXmj82rCJ"
      },
      "execution_count": 207,
      "outputs": []
    },
    {
      "cell_type": "code",
      "source": [
        "plt.scatter(X,y, label='original', color = 'blue')\n",
        "plt.plot(X, 2*X, color='red', label = 'straight line')\n",
        "plt.scatter(X,y)\n",
        "# plt.scatter(X, z, label='predicted')\n",
        "plt.legend()"
      ],
      "metadata": {
        "colab": {
          "base_uri": "https://localhost:8080/",
          "height": 500
        },
        "id": "yjVylyXc3N95",
        "outputId": "89e41406-2999-48dc-b87a-013c4606cb8a"
      },
      "execution_count": 208,
      "outputs": [
        {
          "output_type": "execute_result",
          "data": {
            "text/plain": [
              "<matplotlib.legend.Legend at 0x7fcbfc0fe650>"
            ]
          },
          "metadata": {},
          "execution_count": 208
        },
        {
          "output_type": "display_data",
          "data": {
            "text/plain": [
              "<Figure size 1080x576 with 1 Axes>"
            ],
            "image/png": "[encoded data removed]"
          },
          "metadata": {
            "needs_background": "light"
          }
        }
      ]
    },
    {
      "cell_type": "markdown",
      "source": [
        "so, how good are our guesses ?\n",
        "we need a loss function. the mean squared error (of y actual vs y guesses)."
      ],
      "metadata": {
        "id": "5U81463s4CYZ"
      }
    },
    {
      "cell_type": "code",
      "source": [
        "def mse(y,y_pred):\n",
        "    err = y - y_pred\n",
        "    return pt.mean(err**2)\n",
        "\n",
        "mse(y, forward(X,w))"
      ],
      "metadata": {
        "colab": {
          "base_uri": "https://localhost:8080/"
        },
        "id": "wwBpMg654FU5",
        "outputId": "ca6aed3f-6b5b-4211-b72d-0ef9f938df90"
      },
      "execution_count": 209,
      "outputs": [
        {
          "output_type": "execute_result",
          "data": {
            "text/plain": [
              "tensor(12.8837, grad_fn=<MeanBackward0>)"
            ]
          },
          "metadata": {},
          "execution_count": 209
        }
      ]
    },
    {
      "cell_type": "markdown",
      "source": [
        "use gradient descent from pytorch\n"
      ],
      "metadata": {
        "id": "pOQtULQp47Np"
      }
    },
    {
      "cell_type": "code",
      "source": [
        "EPOCHS = 100\n",
        "LEARNING_RATE = 0.01\n"
      ],
      "metadata": {
        "id": "2VyC5PHr4_hi"
      },
      "execution_count": 210,
      "outputs": []
    },
    {
      "cell_type": "code",
      "source": [
        "for _ in range(EPOCHS):\n",
        "    y_pred = forward(X,w)\n",
        "    loss = mse(y, y_pred)\n",
        "\n",
        "    w.grad = None  # why ?\n",
        "    loss.backward()  # why ?\n",
        "\n",
        "    w.data -= LEARNING_RATE * w.grad\n",
        "\n",
        "w\n",
        "\n",
        "\n"
      ],
      "metadata": {
        "colab": {
          "base_uri": "https://localhost:8080/"
        },
        "id": "Hyp38iqR5JwT",
        "outputId": "739cc65e-150e-47bc-a7a4-2c76b7107d06"
      },
      "execution_count": 211,
      "outputs": [
        {
          "output_type": "execute_result",
          "data": {
            "text/plain": [
              "tensor([1.9956], requires_grad=True)"
            ]
          },
          "metadata": {},
          "execution_count": 211
        }
      ]
    },
    {
      "cell_type": "code",
      "source": [
        "z = forward(X,w)\n",
        "z\n",
        "# z = z[0]\n",
        "# z"
      ],
      "metadata": {
        "colab": {
          "base_uri": "https://localhost:8080/"
        },
        "id": "KrqPRL2D63Y_",
        "outputId": "d0a731f3-e1a9-4114-d8d5-87b3d80199fa"
      },
      "execution_count": 212,
      "outputs": [
        {
          "output_type": "execute_result",
          "data": {
            "text/plain": [
              "tensor([-9.9781, -9.5708, -9.1636, -8.7563, -8.3490, -7.9417, -7.5345, -7.1272,\n",
              "        -6.7199, -6.3127, -5.9054, -5.4981, -5.0909, -4.6836, -4.2763, -3.8691,\n",
              "        -3.4618, -3.0545, -2.6472, -2.2400, -1.8327, -1.4254, -1.0182, -0.6109,\n",
              "        -0.2036,  0.2036,  0.6109,  1.0182,  1.4254,  1.8327,  2.2400,  2.6472,\n",
              "         3.0545,  3.4618,  3.8691,  4.2763,  4.6836,  5.0909,  5.4981,  5.9054,\n",
              "         6.3127,  6.7199,  7.1272,  7.5345,  7.9417,  8.3490,  8.7563,  9.1636,\n",
              "         9.5708,  9.9781], grad_fn=<MulBackward0>)"
            ]
          },
          "metadata": {},
          "execution_count": 212
        }
      ]
    },
    {
      "cell_type": "code",
      "source": [
        "plt.scatter(X,y, label='original', color = 'blue')\n",
        "plt.plot(X, 2*X, color='red', label = 'straight line')\n",
        "plt.scatter(X,y)\n",
        "# plt.scatter(X, z, label='predicted')\n",
        "plt.legend()"
      ],
      "metadata": {
        "colab": {
          "base_uri": "https://localhost:8080/",
          "height": 500
        },
        "id": "wBv1h5F67FBw",
        "outputId": "cdcabad4-b4e9-4866-d67a-590498432eb3"
      },
      "execution_count": 213,
      "outputs": [
        {
          "output_type": "execute_result",
          "data": {
            "text/plain": [
              "<matplotlib.legend.Legend at 0x7fcbfbff9a50>"
            ]
          },
          "metadata": {},
          "execution_count": 213
        },
        {
          "output_type": "display_data",
          "data": {
            "text/plain": [
              "<Figure size 1080x576 with 1 Axes>"
            ],
            "image/png": "[encoded data removed]"
          },
          "metadata": {
            "needs_background": "light"
          }
        }
      ]
    },
    {
      "cell_type": "markdown",
      "source": [
        "recall from linear algebra pow((pow(X,T)*X, -1)*pow(X,T)*y\n",
        "[link text](https://www.youtube.com/watch?v=9aBpF0-JH7A&ab_channel=CodingTech)\n",
        "\n"
      ],
      "metadata": {
        "id": "u0jJEwww70kK"
      }
    },
    {
      "cell_type": "code",
      "source": [
        "pt.pow(X.T @ X, -1) * X.T @ y"
      ],
      "metadata": {
        "colab": {
          "base_uri": "https://localhost:8080/"
        },
        "id": "P-6o7HxN7zPI",
        "outputId": "8f3863c9-2547-430d-ec15-cbcb9b74af33"
      },
      "execution_count": 214,
      "outputs": [
        {
          "output_type": "execute_result",
          "data": {
            "text/plain": [
              "tensor(1.9956)"
            ]
          },
          "metadata": {},
          "execution_count": 214
        }
      ]
    },
    {
      "cell_type": "code",
      "source": [
        "class Scalar:\n",
        "    def __init__(self, val) -> None:\n",
        "        self.val = float(val)\n",
        "        self.grad = 0.\n",
        "        self.backward = lambda: None\n",
        "\n",
        "    def __add__(self, other):\n",
        "        result = Scalar(self.val + other.val)\n",
        "        return result\n",
        "    def __mul__(self, other):\n",
        "        result = Scalar(self.val * other.val)\n",
        "        return result\n",
        "    def __repr__(self) -> str:\n",
        "        return f'Value: {self.val}, Gradient: {self.grad}'\n",
        "\n",
        "Scalar(2) + Scalar(3) * Scalar(5)\n",
        "\n",
        "\n"
      ],
      "metadata": {
        "colab": {
          "base_uri": "https://localhost:8080/"
        },
        "id": "X3xRuwm3_giY",
        "outputId": "aaebc816-0c0b-4052-d199-29a8e6880e83"
      },
      "execution_count": 215,
      "outputs": [
        {
          "output_type": "execute_result",
          "data": {
            "text/plain": [
              "Value: 17.0, Gradient: 0.0"
            ]
          },
          "metadata": {},
          "execution_count": 215
        }
      ]
    },
    {
      "cell_type": "markdown",
      "source": [
        "create a scalar instance for x = 2.0"
      ],
      "metadata": {
        "id": "-Ay5xmvGDezG"
      }
    },
    {
      "cell_type": "code",
      "source": [
        "x = Scalar(2)\n",
        "x"
      ],
      "metadata": {
        "colab": {
          "base_uri": "https://localhost:8080/"
        },
        "id": "d7n9NX_3Dcp3",
        "outputId": "4edb2c93-479f-46ba-d11d-5bf0473f007b"
      },
      "execution_count": 216,
      "outputs": [
        {
          "output_type": "execute_result",
          "data": {
            "text/plain": [
              "Value: 2.0, Gradient: 0.0"
            ]
          },
          "metadata": {},
          "execution_count": 216
        }
      ]
    },
    {
      "cell_type": "markdown",
      "source": [
        "define y = x"
      ],
      "metadata": {
        "id": "uerrZwJ5GCaQ"
      }
    },
    {
      "cell_type": "code",
      "source": [
        "y = x\n",
        "y"
      ],
      "metadata": {
        "colab": {
          "base_uri": "https://localhost:8080/"
        },
        "id": "lT54qHpVGFTM",
        "outputId": "68111545-d378-4407-e8d5-d078f15a103c"
      },
      "execution_count": 217,
      "outputs": [
        {
          "output_type": "execute_result",
          "data": {
            "text/plain": [
              "Value: 2.0, Gradient: 0.0"
            ]
          },
          "metadata": {},
          "execution_count": 217
        }
      ]
    },
    {
      "cell_type": "markdown",
      "source": [
        "prepare for a call `backward` on `y`\n",
        "initialise dy/dx"
      ],
      "metadata": {
        "id": "D8_vatA6Gcpz"
      }
    },
    {
      "cell_type": "code",
      "source": [
        "x.grad = 0.\n",
        "y.grad = 1.\n",
        "\n",
        "y.backward()"
      ],
      "metadata": {
        "id": "lege7wCFGS1s"
      },
      "execution_count": 218,
      "outputs": []
    },
    {
      "cell_type": "markdown",
      "source": [
        "check that dy/dx = 1.0"
      ],
      "metadata": {
        "id": "QSO5pnTkGOLn"
      }
    },
    {
      "cell_type": "code",
      "source": [
        "x.grad"
      ],
      "metadata": {
        "colab": {
          "base_uri": "https://localhost:8080/"
        },
        "id": "bAMELPDCLHMr",
        "outputId": "1539cae2-2615-470c-b3d2-0f9b887506ac"
      },
      "execution_count": 219,
      "outputs": [
        {
          "output_type": "execute_result",
          "data": {
            "text/plain": [
              "1.0"
            ]
          },
          "metadata": {},
          "execution_count": 219
        }
      ]
    },
    {
      "cell_type": "markdown",
      "source": [
        "implement the backward support.\n",
        "\n",
        "given y = x+y,  dy/dx=1.0,  dy/dz  =1.0"
      ],
      "metadata": {
        "id": "xPMpAyd8LbN7"
      }
    },
    {
      "cell_type": "code",
      "source": [
        "class Scalar:\n",
        "    def __init__(self, val) -> None:\n",
        "        self.val = float(val)\n",
        "        self.grad = 0.\n",
        "        self.backward = lambda: None\n",
        "\n",
        "    def __add__(self, other):\n",
        "        result = Scalar(self.val + other.val)\n",
        "        def backward():\n",
        "            self.grad += result.grad\n",
        "            other.grad += result.grad\n",
        "            result.backward = backward\n",
        "            self.backward()\n",
        "            other.backward()\n",
        "        result.backward = backward\n",
        "        return result\n",
        "    def __mul__(self, other):\n",
        "        result = Scalar(self.val * other.val)\n",
        "        return result\n",
        "    def __repr__(self) -> str:\n",
        "        return f'Value: {self.val}, Gradient: {self.grad}'"
      ],
      "metadata": {
        "id": "AW1qet44LeBi"
      },
      "execution_count": 220,
      "outputs": []
    },
    {
      "cell_type": "markdown",
      "source": [
        "define y = 3*x for x = 3.0\n",
        "\n",
        "reminder: 3*x = x + x + x"
      ],
      "metadata": {
        "id": "C_Zxr_OrMhQx"
      }
    },
    {
      "cell_type": "code",
      "source": [
        "x = Scalar(3)\n",
        "y = x + x + x   # y = 3*x"
      ],
      "metadata": {
        "id": "uS7hsVFfMe5q"
      },
      "execution_count": 221,
      "outputs": []
    },
    {
      "cell_type": "markdown",
      "source": [
        "prepare for the backward pass"
      ],
      "metadata": {
        "id": "bjc6hXfuM9Oi"
      }
    },
    {
      "cell_type": "code",
      "source": [
        "x.grad = 0.0\n",
        "y.grad = 1.0\n",
        "\n",
        "y.backward()\n"
      ],
      "metadata": {
        "id": "lYIb9ilFM_tT"
      },
      "execution_count": 222,
      "outputs": []
    },
    {
      "cell_type": "code",
      "source": [
        "x.grad"
      ],
      "metadata": {
        "colab": {
          "base_uri": "https://localhost:8080/"
        },
        "id": "nBCLZkfDNYVy",
        "outputId": "a31c4a53-69f9-427a-c0f0-7acc0ff6da6b"
      },
      "execution_count": 223,
      "outputs": [
        {
          "output_type": "execute_result",
          "data": {
            "text/plain": [
              "3.0"
            ]
          },
          "metadata": {},
          "execution_count": 223
        }
      ]
    },
    {
      "cell_type": "markdown",
      "source": [
        "implement the same for multiplication"
      ],
      "metadata": {
        "id": "BlX3OdD2P7tp"
      }
    },
    {
      "cell_type": "code",
      "source": [
        "class Scalar:\n",
        "    def __init__(self, val) -> None:\n",
        "        self.val = float(val)\n",
        "        self.grad = 0.\n",
        "        self.backward = lambda: None\n",
        "\n",
        "    def __mul__(self, other):\n",
        "        result = Scalar(self.val * other.val)\n",
        "        def backward():\n",
        "            self.grad += other.val * result.grad\n",
        "            other.grad += self.val * result.grad\n",
        "            self.backward()\n",
        "            other.backward()\n",
        "\n",
        "        result.backward = backward\n",
        "        return result\n",
        "\n",
        "    def __add__(self, other):\n",
        "        result = Scalar(self.val + other.val)\n",
        "        def backward():\n",
        "            self.grad += result.grad\n",
        "            other.grad += result.grad\n",
        "            result.backward = backward\n",
        "            self.backward()\n",
        "            other.backward()\n",
        "        result.backward = backward\n",
        "        return result\n",
        "        \n",
        "    def __repr__(self) -> str:\n",
        "        return f'Value: {self.val}, Gradient: {self.grad}'"
      ],
      "metadata": {
        "id": "0_-DaI2IP_7C"
      },
      "execution_count": 224,
      "outputs": []
    },
    {
      "cell_type": "markdown",
      "source": [
        "use y = x^3 + 2*x for x = 4.0\n"
      ],
      "metadata": {
        "id": "vl46TFORQ9CZ"
      }
    },
    {
      "cell_type": "code",
      "source": [
        "x = Scalar(4)\n",
        "y = x * x * x + x + x  # y = 3*x"
      ],
      "metadata": {
        "id": "kfpBwh4IRDiK"
      },
      "execution_count": 225,
      "outputs": []
    },
    {
      "cell_type": "code",
      "source": [
        "x.grad = 0.0\n",
        "y.grad = 1.0\n",
        "y.backward()\n"
      ],
      "metadata": {
        "id": "fCilmfruRMQZ"
      },
      "execution_count": 226,
      "outputs": []
    },
    {
      "cell_type": "code",
      "source": [
        "x.grad"
      ],
      "metadata": {
        "colab": {
          "base_uri": "https://localhost:8080/"
        },
        "id": "Upx8KsMkRW3g",
        "outputId": "0f32b9fb-ce06-4c88-9983-fcc8d029cba6"
      },
      "execution_count": 227,
      "outputs": [
        {
          "output_type": "execute_result",
          "data": {
            "text/plain": [
              "50.0"
            ]
          },
          "metadata": {},
          "execution_count": 227
        }
      ]
    },
    {
      "cell_type": "markdown",
      "source": [
        "Apply `scalar` to linear regression"
      ],
      "metadata": {
        "id": "XxD91RjuS6WJ"
      }
    },
    {
      "cell_type": "code",
      "source": [
        "w = pt.nn.init.uniform_(w, -1, 1)\n",
        "w\n",
        "w = Scalar(w.data.item())\n",
        "w"
      ],
      "metadata": {
        "colab": {
          "base_uri": "https://localhost:8080/"
        },
        "id": "pWfAUdQXS__w",
        "outputId": "20045498-c4f6-488f-a455-8175c0193844"
      },
      "execution_count": 228,
      "outputs": [
        {
          "output_type": "execute_result",
          "data": {
            "text/plain": [
              "Value: -0.5927019119262695, Gradient: 0.0"
            ]
          },
          "metadata": {},
          "execution_count": 228
        }
      ]
    },
    {
      "cell_type": "markdown",
      "source": [
        "Make linear regression"
      ],
      "metadata": {
        "id": "49ngwvHiVPJ5"
      }
    },
    {
      "cell_type": "code",
      "source": [
        "X = [Scalar(i * 0.1) for i in range(-50,50)]\n",
        "X[:5]"
      ],
      "metadata": {
        "colab": {
          "base_uri": "https://localhost:8080/"
        },
        "id": "JUBG_XXhVRLp",
        "outputId": "d5ff1504-e27c-44e2-8051-0d1d071491be"
      },
      "execution_count": 229,
      "outputs": [
        {
          "output_type": "execute_result",
          "data": {
            "text/plain": [
              "[Value: -5.0, Gradient: 0.0,\n",
              " Value: -4.9, Gradient: 0.0,\n",
              " Value: -4.800000000000001, Gradient: 0.0,\n",
              " Value: -4.7, Gradient: 0.0,\n",
              " Value: -4.6000000000000005, Gradient: 0.0]"
            ]
          },
          "metadata": {},
          "execution_count": 229
        }
      ]
    },
    {
      "cell_type": "code",
      "source": [
        "y = [Scalar(2.0) * X[i] for i in range(len(X))]\n",
        "y[:5]"
      ],
      "metadata": {
        "colab": {
          "base_uri": "https://localhost:8080/"
        },
        "id": "MFYKIP23VhvQ",
        "outputId": "0898aace-52e3-4cda-a43f-cb8c975cfb20"
      },
      "execution_count": 230,
      "outputs": [
        {
          "output_type": "execute_result",
          "data": {
            "text/plain": [
              "[Value: -10.0, Gradient: 0.0,\n",
              " Value: -9.8, Gradient: 0.0,\n",
              " Value: -9.600000000000001, Gradient: 0.0,\n",
              " Value: -9.4, Gradient: 0.0,\n",
              " Value: -9.200000000000001, Gradient: 0.0]"
            ]
          },
          "metadata": {},
          "execution_count": 230
        }
      ]
    },
    {
      "cell_type": "markdown",
      "source": [
        "implement a forward function using w"
      ],
      "metadata": {
        "id": "ZY6v7OycWGsg"
      }
    },
    {
      "cell_type": "code",
      "source": [
        "def forward(X,y):\n",
        "    y_pred = [w * X[i] for i in range(len(X))]\n",
        "    return y_pred\n",
        "\n",
        "forward(X,w)[:5]"
      ],
      "metadata": {
        "colab": {
          "base_uri": "https://localhost:8080/"
        },
        "id": "uyL7EQYaWE-n",
        "outputId": "4c057b8d-8f97-4369-eb96-eeb0359a6b86"
      },
      "execution_count": 231,
      "outputs": [
        {
          "output_type": "execute_result",
          "data": {
            "text/plain": [
              "[Value: 2.9635095596313477, Gradient: 0.0,\n",
              " Value: 2.904239368438721, Gradient: 0.0,\n",
              " Value: 2.844969177246094, Gradient: 0.0,\n",
              " Value: 2.785698986053467, Gradient: 0.0,\n",
              " Value: 2.72642879486084, Gradient: 0.0]"
            ]
          },
          "metadata": {},
          "execution_count": 231
        }
      ]
    },
    {
      "cell_type": "markdown",
      "source": [
        "implement the mean squared error"
      ],
      "metadata": {
        "id": "2zNQgyTgW92g"
      }
    },
    {
      "cell_type": "code",
      "source": [
        "def mse(y,y_pred):\n",
        "    err = [y[i] + Scalar(-1) * y_pred[i] for i in range(len(y))]\n",
        "    se = [err[i] * err[i] for i in range(len(err))]\n",
        "    mse = Scalar(1.0 / len(se)) * sum(se, Scalar(0))\n",
        "    return mse\n",
        "\n",
        "mse(y, forward(X,w ))"
      ],
      "metadata": {
        "colab": {
          "base_uri": "https://localhost:8080/"
        },
        "id": "fFYqA0HmWtkA",
        "outputId": "7662aa26-f5ef-4f76-9d8d-4469f8cb94d1"
      },
      "execution_count": 233,
      "outputs": [
        {
          "output_type": "execute_result",
          "data": {
            "text/plain": [
              "Value: 56.0287302062246, Gradient: 0.0"
            ]
          },
          "metadata": {},
          "execution_count": 233
        }
      ]
    },
    {
      "cell_type": "markdown",
      "source": [
        "confirm that gradiet descent works"
      ],
      "metadata": {
        "id": "pRIRS1CsaKKf"
      }
    },
    {
      "cell_type": "code",
      "source": [
        "for _ in range(EPOCHS):\n",
        "    y_pred = forward(X,w)\n",
        "    loss = mse(y ,y_pred)\n",
        "\n",
        "    w.grad = 0.0  # optimizer.zero_grad() None\n",
        "    loss.grad = 1.0  # dy/dy = 1 backward() <- sets 1 automatically\n",
        "    loss.backward()\n",
        "\n",
        "    w.val -= LEARNING_RATE * w.grad\n",
        "\n",
        "\n",
        "w\n",
        "\n",
        "\n",
        "\n",
        "\n"
      ],
      "metadata": {
        "colab": {
          "base_uri": "https://localhost:8080/"
        },
        "id": "Ss1d9f1iaI3G",
        "outputId": "9de2e940-cc60-40da-82e3-fdb2abc6dba2"
      },
      "execution_count": 239,
      "outputs": [
        {
          "output_type": "execute_result",
          "data": {
            "text/plain": [
              "Value: 2.0, Gradient: 0.0"
            ]
          },
          "metadata": {},
          "execution_count": 239
        }
      ]
    },
    {
      "cell_type": "code",
      "source": [
        "X[:5], y[:5]"
      ],
      "metadata": {
        "colab": {
          "base_uri": "https://localhost:8080/"
        },
        "id": "8zg1K1KbZmQe",
        "outputId": "6189deb7-dafd-4e01-9fdd-a2a110dd61ce"
      },
      "execution_count": 240,
      "outputs": [
        {
          "output_type": "execute_result",
          "data": {
            "text/plain": [
              "([Value: -5.0, Gradient: -308.6440087671485,\n",
              "  Value: -4.9, Gradient: -302.4711285918054,\n",
              "  Value: -4.800000000000001, Gradient: -296.2982484164632,\n",
              "  Value: -4.7, Gradient: -290.1253682411198,\n",
              "  Value: -4.6000000000000005, Gradient: -283.95248806577655],\n",
              " [Value: -10.0, Gradient: -0.7776550425693665,\n",
              "  Value: -9.8, Gradient: -0.7621019417179794,\n",
              "  Value: -9.600000000000001, Gradient: -0.7465488408665932,\n",
              "  Value: -9.4, Gradient: -0.7309957400152047,\n",
              "  Value: -9.200000000000001, Gradient: -0.7154426391638171])"
            ]
          },
          "metadata": {},
          "execution_count": 240
        }
      ]
    }
  ]
}