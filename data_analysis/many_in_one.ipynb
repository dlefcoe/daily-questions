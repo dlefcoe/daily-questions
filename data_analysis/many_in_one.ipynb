{
 "cells": [
  {
   "cell_type": "markdown",
   "metadata": {},
   "source": [
    "# equation for straight line given 2 points.\n",
    "\n",
    "given 2 points on a straigh line: (x1, y1) and (x2, y2)\n",
    "\n",
    "find the equation of the straight line."
   ]
  },
  {
   "cell_type": "code",
   "execution_count": 1,
   "metadata": {},
   "outputs": [
    {
     "name": "stdout",
     "output_type": "stream",
     "text": [
      "Y = 0.95x + 0.1\n"
     ]
    }
   ],
   "source": [
    "x1, y1 = 0, 0.1\n",
    "x2, y2 = 2, 2\n",
    "\n",
    "# slope\n",
    "over = y2-y1\n",
    "under = x2-x1\n",
    "m = over/under\n",
    "\n",
    "# intercept\n",
    "b = y1 - m*x1\n",
    "\n",
    "# finally\n",
    "print(f'Y = {m}x + {b}')"
   ]
  }
 ],
 "metadata": {
  "kernelspec": {
   "display_name": "Python 3.10.4 64-bit",
   "language": "python",
   "name": "python3"
  },
  "language_info": {
   "codemirror_mode": {
    "name": "ipython",
    "version": 3
   },
   "file_extension": ".py",
   "mimetype": "text/x-python",
   "name": "python",
   "nbconvert_exporter": "python",
   "pygments_lexer": "ipython3",
   "version": "3.10.4"
  },
  "orig_nbformat": 4,
  "vscode": {
   "interpreter": {
    "hash": "beedbe2faf2f7048d727558d0bc3221e7eba2a0b921cac4d4771b2feb8f74b30"
   }
  }
 },
 "nbformat": 4,
 "nbformat_minor": 2
}
