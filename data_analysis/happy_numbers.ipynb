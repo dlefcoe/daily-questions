{
 "cells": [
  {
   "cell_type": "markdown",
   "metadata": {},
   "source": [
    "# Happy Numbers\n",
    "\n",
    "A `happy number` is defined by the following process. \n",
    "\n",
    "Starting with any positive integer, replace the number by the sum of the squares of its digits, and repeat the process until the number equals 1.\n",
    "\n",
    "(where it will stay), or it loops endlessly in a cycle which does not include 1. \n",
    "\n",
    "Those numbers for which **this process ends in 1 are happy numbers**, while those that **do not end in 1 are unhappy numbers**. \n",
    "\n",
    "Display an example of your output here. Find first 8 happy numbers."
   ]
  },
  {
   "cell_type": "code",
   "execution_count": 3,
   "metadata": {},
   "outputs": [
    {
     "name": "stdout",
     "output_type": "stream",
     "text": [
      "[999, 243, 29, 85, 89, 145, 42, 20, 4, 16, 37, 58, 89, 145, 42, 20, 4, 16, 37, 58, 89, 145, 42, 20, 4, 16, 37, 58, 89, 145, 42, 20, 4, 16, 37, 58, 89, 145, 42, 20, 4, 16, 37, 58, 89, 145, 42, 20, 4, 16, 37, 58, 89, 145, 42, 20, 4, 16, 37, 58, 89, 145, 42, 20, 4, 16, 37, 58, 89, 145, 42, 20, 4, 16, 37, 58, 89, 145, 42, 20, 4, 16, 37, 58, 89, 145, 42, 20, 4, 16, 37, 58, 89, 145, 42, 20, 4, 16, 37, 58, 89]\n",
      "number of guesses 101\n"
     ]
    }
   ],
   "source": [
    "def find_happy_number(x):\n",
    "    \n",
    "    s = [x for x in str(x)]\n",
    "    s2 = sum([int(x)**2 for x in s])\n",
    "\n",
    "    return s2\n",
    "\n",
    "n = 999\n",
    "vals = [n]\n",
    "for i in range(100):\n",
    "    n = find_happy_number(n)\n",
    "    vals.append(n)\n",
    "    if n == 1:\n",
    "        break\n",
    "\n",
    "print(vals)\n",
    "print('number of guesses', len(vals))"
   ]
  }
 ],
 "metadata": {
  "kernelspec": {
   "display_name": "Python 3.10.4 64-bit",
   "language": "python",
   "name": "python3"
  },
  "language_info": {
   "codemirror_mode": {
    "name": "ipython",
    "version": 3
   },
   "file_extension": ".py",
   "mimetype": "text/x-python",
   "name": "python",
   "nbconvert_exporter": "python",
   "pygments_lexer": "ipython3",
   "version": "3.10.4"
  },
  "orig_nbformat": 4,
  "vscode": {
   "interpreter": {
    "hash": "beedbe2faf2f7048d727558d0bc3221e7eba2a0b921cac4d4771b2feb8f74b30"
   }
  }
 },
 "nbformat": 4,
 "nbformat_minor": 2
}
