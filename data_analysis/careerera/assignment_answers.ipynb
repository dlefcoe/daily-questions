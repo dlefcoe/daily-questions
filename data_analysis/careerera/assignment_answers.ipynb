{
 "cells": [
  {
   "cell_type": "markdown",
   "metadata": {},
   "source": [
    "# These are `my` answers to the assignment handouts...\n",
    "\n",
    "MDS500 Python Programming For Data Science:\n",
    " - There were 7 assignments (marked 2 to 8).\n",
    " - They are all done in turn here.\n",
    "\n",
    "I have completed the answers verbosely with a variety of techniques\n",
    "so that we can inspect various tool.\n",
    "\n",
    "Lets see how efficiently you can tackle the same problems.\n"
   ]
  },
  {
   "cell_type": "markdown",
   "metadata": {},
   "source": [
    "---"
   ]
  },
  {
   "cell_type": "markdown",
   "metadata": {},
   "source": [
    "# Module 2\n",
    "\n",
    "## Assignment 1\n",
    "\n",
    "\n",
    "\n",
    "\n",
    "\n",
    "\n",
    "Using what we learned during this module, write a short python program in Jupyter Notebook that displays your name."
   ]
  },
  {
   "cell_type": "code",
   "execution_count": 36,
   "metadata": {},
   "outputs": [
    {
     "name": "stdout",
     "output_type": "stream",
     "text": [
      "hellow world\n"
     ]
    }
   ],
   "source": [
    "print('hellow world')"
   ]
  },
  {
   "cell_type": "markdown",
   "metadata": {},
   "source": [
    "MDS500 Python Programming For Data Science\n",
    "\n",
    "# Module 3\n",
    "\n",
    "## Assignment 1\n",
    "\n",
    "\n",
    "\n",
    "\n",
    "\n",
    "\n",
    "Using what we learned during this module, write a short python program in Jupyter Notebook that stores your first name in a variable, stores your middle name in a second variable and stores your last name in a third variable. Then write code to have it concatenate all three variables into one new variable with spaces between the names"
   ]
  },
  {
   "cell_type": "code",
   "execution_count": 37,
   "metadata": {},
   "outputs": [
    {
     "name": "stdout",
     "output_type": "stream",
     "text": [
      "hello moon sun\n"
     ]
    }
   ],
   "source": [
    "first_name = 'hello'\n",
    "second_name = 'moon'\n",
    "last_name = 'sun'\n",
    "\n",
    "# concatination\n",
    "full_name = first_name + ' ' + second_name + ' ' + last_name\n",
    "print(full_name)"
   ]
  },
  {
   "cell_type": "markdown",
   "metadata": {},
   "source": [
    "# Module 4\n",
    "\n",
    "## Assignment 1\n",
    "\n",
    "\n",
    "\n",
    "\n",
    "\n",
    "Using what we learned during this module, write a short python program in Jupyter Notebook that stores a list of ten different vegetables in a dictionary along with their prices. Then write a program that will select five of the items and output them into an invoice along with subtotals, a 10% discount and a final total.  "
   ]
  },
  {
   "cell_type": "code",
   "execution_count": 38,
   "metadata": {},
   "outputs": [
    {
     "name": "stdout",
     "output_type": "stream",
     "text": [
      "items in the list: 10 \n",
      "\n",
      "you have picked these items:\n",
      "['Fennel', 'Garlic', 'eggplant', 'Fennel', 'Garlic'] \n",
      "\n",
      "these are the costs:\n",
      "[1.25, 2.5, 0.95, 1.25, 2.5] \n",
      "\n",
      "the total cost is:  8.45  GBP\n",
      "your discoiunt is 0.84 GBP\n",
      "your invoice is 7.61 GBP\n"
     ]
    }
   ],
   "source": [
    "import random\n",
    "\n",
    "vegetables = {'Artichoke':0.50, 'Beets':0.75, 'carrot':0.25,\n",
    "            'dates':1.50, 'eggplant':0.95, 'Fennel':1.25,\n",
    "            'Garlic':2.50, 'HEARTS of PALM':1.25, \n",
    "            'Iceberg Lettuce':0.35, 'Jerusalem Artichoke':0.50}\n",
    "\n",
    "print('items in the list:', len(vegetables), '\\n')\n",
    "\n",
    "# randomly select 5 from the list\n",
    "items = []\n",
    "for i in range(5):\n",
    "    item = random.choice(list(vegetables.keys()))\n",
    "    items.append(item)\n",
    "\n",
    "print('you have picked these items:')\n",
    "print(items, '\\n')\n",
    "\n",
    "# how much the items cost (list comprehension)\n",
    "costs = [vegetables[x] for x in items]\n",
    "print('these are the costs:')\n",
    "print(costs, '\\n')\n",
    "\n",
    "total_cost = round(sum(costs),2)\n",
    "\n",
    "print('the total cost is: ', total_cost, ' GBP')\n",
    "\n",
    "discount = round(0.1 * total_cost , 2)\n",
    "print(f'your discoiunt is {discount} GBP')\n",
    "\n",
    "invoice = total_cost - discount\n",
    "invoice = round(invoice, 2)\n",
    "print(f'your invoice is {invoice} GBP')\n",
    "\n",
    "\n",
    "\n"
   ]
  },
  {
   "cell_type": "markdown",
   "metadata": {},
   "source": [
    "# Module 5\n",
    "\n",
    "## Assignment 1\n",
    "\n",
    "\n",
    "\n",
    "\n",
    "\n",
    "\n",
    "Using what we learned during this module and your code from Assignment 1 Module 4, write a program that will loop through the vegetables and apply a 5% discount on any vegetable that has the letter “o” in its name IF its price is above $2 but below $5. If there are no vegetable with the letter “o” in the name found that match this criteria, the program should remove all discounts applied.   "
   ]
  },
  {
   "cell_type": "code",
   "execution_count": 39,
   "metadata": {},
   "outputs": [
    {
     "name": "stdout",
     "output_type": "stream",
     "text": [
      "items in the list: 10 \n",
      "\n",
      "you have picked these items:\n",
      "['Garlic', 'Beets', 'HEARTS of PALM', 'Jerusalem Artichoke', 'carrot'] \n",
      "\n",
      "the HEARTS of PALM qualifies for discount\n",
      "the Jerusalem Artichoke qualifies for discount\n",
      "these are the costs:\n",
      "[2.5, 0.75, 2.75, 3.99, 0.25] \n",
      "\n",
      "these are the discounted costs:\n",
      "[2.5, 0.75, 2.61, 3.79, 0.25] \n",
      "\n",
      "items with o discounting\n",
      "the total cost is:  10.24  GBP\n",
      "your discount is 0.34 GBP\n",
      "your invoice is 9.9 GBP\n"
     ]
    }
   ],
   "source": [
    "import random\n",
    "\n",
    "vegetables = {'Artichoke':0.50, 'Beets':0.75, 'carrot':0.25,\n",
    "            'dates':1.50, 'eggplant':0.95, 'Fennel':1.25,\n",
    "            'Garlic':2.50, 'HEARTS of PALM':2.75, \n",
    "            'Iceberg Lettuce':0.35, 'Jerusalem Artichoke':3.99}\n",
    "\n",
    "print('items in the list:', len(vegetables), '\\n')\n",
    "\n",
    "# randomly select 5 from the list\n",
    "items = []\n",
    "for i in range(5):\n",
    "    item = random.choice(list(vegetables.keys()))\n",
    "    items.append(item)\n",
    "\n",
    "print('you have picked these items:')\n",
    "print(items, '\\n')\n",
    "\n",
    "# how much the items cost\n",
    "costs = [vegetables[x] for x in items]\n",
    "\n",
    "# potential discounting\n",
    "discounts_used = False\n",
    "discounted_costs = []\n",
    "for item in items:\n",
    "    initial_cost = vegetables[item]\n",
    "    if 'o' in item:\n",
    "        if initial_cost> 2 and initial_cost < 5:\n",
    "            print(f'the {item} qualifies for discount')\n",
    "            discount = 0.05\n",
    "            discounts_used = True\n",
    "        else:\n",
    "            discount = 0.00\n",
    "    else:\n",
    "        discount = 0.00\n",
    "\n",
    "    final_cost = initial_cost * (1 - discount)\n",
    "    final_cost = round(final_cost, 2)\n",
    "    discounted_costs.append(final_cost)\n",
    "\n",
    "print('these are the costs:')\n",
    "print(costs, '\\n')\n",
    "\n",
    "print('these are the discounted costs:')\n",
    "print(discounted_costs, '\\n')\n",
    "\n",
    "total_cost = sum(costs)\n",
    "total_cost = round(total_cost, 2)\n",
    "\n",
    "if discounts_used:\n",
    "    # use the discounting\n",
    "    print('items with o discounting')\n",
    "    total_discounted_cost = round(sum(discounted_costs),2)\n",
    "    discount = total_cost - total_discounted_cost\n",
    "    discount = round(discount,2)  \n",
    "else:\n",
    "    # use the original discount (or use zero as in the question)\n",
    "    print('general discounting')\n",
    "    discount = round(0.1 * total_cost , 2)\n",
    "    total_discounted_cost = total_cost - discount\n",
    "\n",
    "\n",
    "print('the total cost is: ', total_cost, ' GBP')\n",
    "print(f'your discount is {discount} GBP')\n",
    "\n",
    "invoice = total_cost - discount\n",
    "invoice = round(invoice, 2)\n",
    "print(f'your invoice is {invoice} GBP')\n",
    "\n"
   ]
  },
  {
   "cell_type": "markdown",
   "metadata": {},
   "source": [
    "# Module 6\n",
    "\n",
    "## Assignment 1\n",
    "\n",
    "\n",
    "\n",
    "\n",
    "\n",
    "\n",
    "Using what we learned during this module and your code from Assignment 1 Module 4, and Assignment 1 Module 5,  create a class for “root vegetables”, a class for “leafy greens” and a class for “flower vegetables”. Give these different classes two unique properties each based on the real life vegetable classification as well as a print statement outputting which class it is; then create objects out of your 10 selected vegetables that inherit from one of the three classes mentioned above and call the class print statement along with the object name. "
   ]
  },
  {
   "cell_type": "code",
   "execution_count": 40,
   "metadata": {},
   "outputs": [
    {
     "name": "stdout",
     "output_type": "stream",
     "text": [
      "{'Artichoke': {\"unique_properties\": [\"vitamins A and C\", \"riboflavins\"]}, 'Beets': {\"unique_properties\": [\"leafy stalks\", \"poke_out_earth\"]}, 'carrot': {\"unique_properties\": [\"leafy stalks\", \"poke_out_earth\"]}, 'Dill': {\"unique_properties\": [\"vitamins A, C, E and K\", \"carotenoids-antioxidants\"]}, 'eggplant': {\"unique_properties\": [\"vitamins A and C\", \"riboflavins\"]}, 'Fennel': {\"unique_properties\": [\"leafy stalks\", \"poke_out_earth\"]}, 'Garlic': {\"unique_properties\": [\"leafy stalks\", \"poke_out_earth\"]}, 'HEARTS of PALM': {\"unique_properties\": [\"vitamins A and C\", \"riboflavins\"]}, 'Iceberg Lettuce': {\"unique_properties\": [\"vitamins A, C, E and K\", \"carotenoids-antioxidants\"]}, 'Jerusalem Artichoke': {\"unique_properties\": [\"vitamins A and C\", \"riboflavins\"]}}\n"
     ]
    }
   ],
   "source": [
    "import json\n",
    "\n",
    "class RootVeg:\n",
    "    \n",
    "    def __init__(self) -> None:\n",
    "        # unique properties\n",
    "        self.unique_properties = [\n",
    "            'leafy stalks',\n",
    "            'poke_out_earth']\n",
    "\n",
    "        \n",
    "    def __repr__(self) -> str:\n",
    "        # dict of things to display\n",
    "        d = {'unique_properties':self.unique_properties}\n",
    "        # dict to string\n",
    "        s = json.dumps(d)\n",
    "        return s\n",
    "\n",
    "\n",
    "class LeafyGreens:\n",
    "\n",
    "    def __init__(self) -> None:\n",
    "        self.unique_properties = [\n",
    "            'vitamins A, C, E and K',\n",
    "            'carotenoids-antioxidants']\n",
    "        \n",
    "    def __repr__(self) -> str:\n",
    "        # dict of things to display\n",
    "        d = {'unique_properties':self.unique_properties}\n",
    "        # dict to string\n",
    "        s = json.dumps(d)\n",
    "        return s\n",
    "\n",
    "\n",
    "class FlowerVeg:\n",
    "\n",
    "    def __init__(self) -> None:\n",
    "        self.unique_properties = [\n",
    "            'vitamins A and C',\n",
    "            'riboflavins']\n",
    "        \n",
    "    def __repr__(self) -> str:\n",
    "        # dict of things to display\n",
    "        d = {'unique_properties':self.unique_properties}\n",
    "        # dict to string\n",
    "        s = json.dumps(d)\n",
    "        return s\n",
    "\n",
    "\n",
    "# RootVeg, LeafyGreens, FlowerVeg\n",
    "vegetables = {\n",
    "    'Artichoke':FlowerVeg(), 'Beets':RootVeg(), \n",
    "    'carrot':RootVeg(), 'Dill':LeafyGreens(), \n",
    "    'eggplant':FlowerVeg(), 'Fennel':RootVeg(),\n",
    "    'Garlic':RootVeg(), 'HEARTS of PALM':FlowerVeg(), \n",
    "    'Iceberg Lettuce':LeafyGreens(), 'Jerusalem Artichoke':FlowerVeg()}\n",
    "\n",
    "\n",
    "print(vegetables)\n",
    "\n"
   ]
  },
  {
   "cell_type": "markdown",
   "metadata": {},
   "source": [
    "# Module 7\n",
    "\n",
    "## Assignment 1\n",
    "\n",
    "\n",
    "\n",
    "\n",
    "\n",
    "\n",
    "Using what we learned during this module and your code from Assignment 1 Module 4, and Assignment 1 Module 5, Assignment 1 Module 6, create a 2D numpy array that stores your vegetable names and prices and modify your invoice generating code to utilize the numpy array to generate an invoice with values for five of the vegetable names and prices from a view of the numpy array.\n",
    "\n",
    "Create a data frame from your numpy array values and add a new column for number of items sold for each vegetable and assign each vegetable a random number for number of items sold that must be above 10.  In a new dataframe, drop any vegetable which sold below 9 items. Then output the mean, median and mode for the number of items sold column. Finally, find out and print the correlation between the price and number of items sold. "
   ]
  },
  {
   "cell_type": "code",
   "execution_count": 41,
   "metadata": {},
   "outputs": [
    {
     "name": "stdout",
     "output_type": "stream",
     "text": [
      "[['Artichoke' 2.5]\n",
      " ['Beets' 1.25]\n",
      " ['carrot' 0.95]\n",
      " ['Dill' 1.5]\n",
      " ['eggplant' 1.99]\n",
      " ['Fennel' 1.25]\n",
      " ['Garlic' 0.95]\n",
      " ['HEARTS of PALM' 3.5]\n",
      " ['Iceberg Lettuce' 0.5]\n",
      " ['Jerusalem Artichoke' 3.95]] \n",
      "\n",
      "array shape (10, 2)\n"
     ]
    }
   ],
   "source": [
    "import numpy as np\n",
    "import json\n",
    "\n",
    "class RootVeg:\n",
    "    \n",
    "    def __init__(self, price) -> None:\n",
    "        # unique properties\n",
    "        self.unique_properties = [\n",
    "            'leafy stalks',\n",
    "            'poke_out_earth']\n",
    "        self.price = price\n",
    "\n",
    "        \n",
    "    def __repr__(self) -> str:\n",
    "        # dict of things to display\n",
    "        d = {'unique_properties':self.unique_properties,\n",
    "            'price':self.price}\n",
    "        # dict to string\n",
    "        s = json.dumps(d)\n",
    "        return s\n",
    "\n",
    "\n",
    "class LeafyGreens:\n",
    "\n",
    "    def __init__(self, price) -> None:\n",
    "        self.unique_properties = [\n",
    "            'vitamins A, C, E and K',\n",
    "            'carotenoids-antioxidants']\n",
    "        self.price = price\n",
    "        \n",
    "    def __repr__(self) -> str:\n",
    "        # dict of things to display\n",
    "        d = {'unique_properties':self.unique_properties,\n",
    "            'price':self.price}\n",
    "        # dict to string\n",
    "        s = json.dumps(d)\n",
    "        return s\n",
    "\n",
    "\n",
    "class FlowerVeg:\n",
    "\n",
    "    def __init__(self, price) -> None:\n",
    "        self.unique_properties = [\n",
    "            'vitamins A and C',\n",
    "            'riboflavins']\n",
    "        self.price = price\n",
    "        \n",
    "    def __repr__(self) -> str:\n",
    "        # dict of things to display\n",
    "        d = {'unique_properties':self.unique_properties,\n",
    "            'price':self.price}\n",
    "        # dict to string\n",
    "        s = json.dumps(d)\n",
    "        return s\n",
    "\n",
    "\n",
    "# RootVeg, LeafyGreens, FlowerVeg\n",
    "vegetables = {\n",
    "    'Artichoke':FlowerVeg(2.50),\n",
    "    'Beets':RootVeg(1.25), \n",
    "    'carrot':RootVeg(.95), \n",
    "    'Dill':LeafyGreens(1.50), \n",
    "    'eggplant':FlowerVeg(1.99), \n",
    "    'Fennel':RootVeg(1.25),\n",
    "    'Garlic':RootVeg(0.95),\n",
    "    'HEARTS of PALM':FlowerVeg(3.50), \n",
    "    'Iceberg Lettuce':LeafyGreens(0.50), \n",
    "    'Jerusalem Artichoke':FlowerVeg(3.95)\n",
    "    }\n",
    "\n",
    "# print(len(vegetables))\n",
    "\n",
    "\n",
    "################################################################\n",
    "# create a 2D numpy array that stores your vegetable names and prices\n",
    "################################################################\n",
    "veg_array = np.zeros(shape=(len(vegetables),2), dtype=object)\n",
    "# never used dtype=object before, but it works \n",
    "counter = 0\n",
    "for k, v in vegetables.items():\n",
    "    # print(k, v.price)\n",
    "    veg_array[counter, 0] = k\n",
    "    veg_array[counter, 1] = v.price\n",
    "    counter += 1\n",
    "    \n",
    "print(veg_array, '\\n')\n",
    "print('array shape', np.shape(veg_array))\n",
    "\n",
    "\n"
   ]
  },
  {
   "cell_type": "code",
   "execution_count": 42,
   "metadata": {},
   "outputs": [
    {
     "name": "stdout",
     "output_type": "stream",
     "text": [
      "these are the costs:\n",
      "[1.25 1.5 1.25 1.99 1.99] \n",
      "\n",
      "these are the discounted costs:\n",
      "[1.25, 1.5, 1.25, 1.99, 1.99] \n",
      "\n",
      "general discounting\n",
      "the total cost is:  7.98  GBP\n",
      "your discount is 0.8 GBP\n",
      "your invoice is 7.18 GBP\n"
     ]
    }
   ],
   "source": [
    "\n",
    "################################################################\n",
    "# modify your invoice generating code to utilize the numpy array\n",
    "################################################################\n",
    "\n",
    "# this is the numpy modification\n",
    "number_of_rows = veg_array.shape[0]\n",
    "random_indices = np.random.choice(number_of_rows, size=5, replace=True)\n",
    "random_rows = veg_array[random_indices, :]\n",
    "random_rows\n",
    "\n",
    "items = random_rows[:,0]\n",
    "costs = random_rows[:,1]\n",
    "\n",
    "\n",
    "# potential discounting\n",
    "discounts_used = False\n",
    "discounted_costs = []\n",
    "for i, item in enumerate(items):    # numpy modded line\n",
    "    initial_cost = costs[i]         # numpy modded line\n",
    "    if 'o' in item:\n",
    "        if initial_cost> 2 and initial_cost < 5:\n",
    "            print(f'the {item} qualifies for discount')\n",
    "            discount = 0.05\n",
    "            discounts_used = True\n",
    "        else:\n",
    "            discount = 0.00\n",
    "    else:\n",
    "        discount = 0.00\n",
    "\n",
    "    final_cost = initial_cost * (1 - discount)\n",
    "    final_cost = round(final_cost, 2)\n",
    "    discounted_costs.append(final_cost)\n",
    "\n",
    "print('these are the costs:')\n",
    "print(costs, '\\n')\n",
    "\n",
    "print('these are the discounted costs:')\n",
    "print(discounted_costs, '\\n')\n",
    "\n",
    "total_cost = sum(costs)\n",
    "total_cost = round(total_cost, 2)\n",
    "\n",
    "if discounts_used:\n",
    "    # use the discounting\n",
    "    print('items with o discounting')\n",
    "    total_discounted_cost = round(sum(discounted_costs),2)\n",
    "    discount = total_cost - total_discounted_cost\n",
    "    discount = round(discount,2)  \n",
    "else:\n",
    "    # use the original discount (or use zero as in the question)\n",
    "    print('general discounting')\n",
    "    discount = round(0.1 * total_cost , 2)\n",
    "    total_discounted_cost = total_cost - discount\n",
    "\n",
    "\n",
    "print('the total cost is: ', total_cost, ' GBP')\n",
    "print(f'your discount is {discount} GBP')\n",
    "\n",
    "invoice = total_cost - discount\n",
    "invoice = round(invoice, 2)\n",
    "print(f'your invoice is {invoice} GBP')\n",
    "\n",
    "\n"
   ]
  },
  {
   "cell_type": "code",
   "execution_count": 43,
   "metadata": {},
   "outputs": [
    {
     "data": {
      "text/html": [
       "<div>\n",
       "<style scoped>\n",
       "    .dataframe tbody tr th:only-of-type {\n",
       "        vertical-align: middle;\n",
       "    }\n",
       "\n",
       "    .dataframe tbody tr th {\n",
       "        vertical-align: top;\n",
       "    }\n",
       "\n",
       "    .dataframe thead th {\n",
       "        text-align: right;\n",
       "    }\n",
       "</style>\n",
       "<table border=\"1\" class=\"dataframe\">\n",
       "  <thead>\n",
       "    <tr style=\"text-align: right;\">\n",
       "      <th></th>\n",
       "      <th>vegetable</th>\n",
       "      <th>price</th>\n",
       "      <th>number sold</th>\n",
       "    </tr>\n",
       "  </thead>\n",
       "  <tbody>\n",
       "    <tr>\n",
       "      <th>0</th>\n",
       "      <td>Artichoke</td>\n",
       "      <td>2.5</td>\n",
       "      <td>20</td>\n",
       "    </tr>\n",
       "    <tr>\n",
       "      <th>1</th>\n",
       "      <td>Beets</td>\n",
       "      <td>1.25</td>\n",
       "      <td>11</td>\n",
       "    </tr>\n",
       "    <tr>\n",
       "      <th>2</th>\n",
       "      <td>carrot</td>\n",
       "      <td>0.95</td>\n",
       "      <td>46</td>\n",
       "    </tr>\n",
       "    <tr>\n",
       "      <th>3</th>\n",
       "      <td>Dill</td>\n",
       "      <td>1.5</td>\n",
       "      <td>42</td>\n",
       "    </tr>\n",
       "    <tr>\n",
       "      <th>4</th>\n",
       "      <td>eggplant</td>\n",
       "      <td>1.99</td>\n",
       "      <td>18</td>\n",
       "    </tr>\n",
       "    <tr>\n",
       "      <th>5</th>\n",
       "      <td>Fennel</td>\n",
       "      <td>1.25</td>\n",
       "      <td>20</td>\n",
       "    </tr>\n",
       "    <tr>\n",
       "      <th>6</th>\n",
       "      <td>Garlic</td>\n",
       "      <td>0.95</td>\n",
       "      <td>33</td>\n",
       "    </tr>\n",
       "    <tr>\n",
       "      <th>7</th>\n",
       "      <td>HEARTS of PALM</td>\n",
       "      <td>3.5</td>\n",
       "      <td>11</td>\n",
       "    </tr>\n",
       "    <tr>\n",
       "      <th>8</th>\n",
       "      <td>Iceberg Lettuce</td>\n",
       "      <td>0.5</td>\n",
       "      <td>43</td>\n",
       "    </tr>\n",
       "    <tr>\n",
       "      <th>9</th>\n",
       "      <td>Jerusalem Artichoke</td>\n",
       "      <td>3.95</td>\n",
       "      <td>46</td>\n",
       "    </tr>\n",
       "  </tbody>\n",
       "</table>\n",
       "</div>"
      ],
      "text/plain": [
       "             vegetable price  number sold\n",
       "0            Artichoke   2.5           20\n",
       "1                Beets  1.25           11\n",
       "2               carrot  0.95           46\n",
       "3                 Dill   1.5           42\n",
       "4             eggplant  1.99           18\n",
       "5               Fennel  1.25           20\n",
       "6               Garlic  0.95           33\n",
       "7       HEARTS of PALM   3.5           11\n",
       "8      Iceberg Lettuce   0.5           43\n",
       "9  Jerusalem Artichoke  3.95           46"
      ]
     },
     "execution_count": 43,
     "metadata": {},
     "output_type": "execute_result"
    }
   ],
   "source": [
    "\n",
    "################################################################\n",
    "# Create a data frame from your numpy array values\n",
    "################################################################\n",
    "\n",
    "from numpy import dtype\n",
    "import pandas as pd\n",
    "\n",
    "df = pd.DataFrame(veg_array, columns=['vegetable', 'price'])\n",
    "\n",
    "################################################################\n",
    "# add a new column for number of items sold for each vegetable\n",
    "################################################################\n",
    "df['number sold'] = 0\n",
    "\n",
    "################################################################\n",
    "# assign each vegetable a random number for number of items sold > 10\n",
    "################################################################\n",
    "df['number sold'] = np.random.randint(10,50, df.shape[0])\n",
    "\n",
    "################################################################\n",
    "# In a new dataframe, drop any vegetable which sold below 9 items.\n",
    "################################################################\n",
    "df_new = df[df['number sold'] > 10]\n",
    "df_new\n",
    "\n"
   ]
  },
  {
   "cell_type": "code",
   "execution_count": 44,
   "metadata": {},
   "outputs": [
    {
     "name": "stdout",
     "output_type": "stream",
     "text": [
      "median: 26.5\n",
      "mode: 0    11\n",
      "1    20\n",
      "2    46\n",
      "Name: number sold, dtype: int32\n"
     ]
    },
    {
     "data": {
      "text/html": [
       "<div>\n",
       "<style scoped>\n",
       "    .dataframe tbody tr th:only-of-type {\n",
       "        vertical-align: middle;\n",
       "    }\n",
       "\n",
       "    .dataframe tbody tr th {\n",
       "        vertical-align: top;\n",
       "    }\n",
       "\n",
       "    .dataframe thead th {\n",
       "        text-align: right;\n",
       "    }\n",
       "</style>\n",
       "<table border=\"1\" class=\"dataframe\">\n",
       "  <thead>\n",
       "    <tr style=\"text-align: right;\">\n",
       "      <th></th>\n",
       "      <th>number sold</th>\n",
       "    </tr>\n",
       "  </thead>\n",
       "  <tbody>\n",
       "    <tr>\n",
       "      <th>count</th>\n",
       "      <td>10.000000</td>\n",
       "    </tr>\n",
       "    <tr>\n",
       "      <th>mean</th>\n",
       "      <td>29.000000</td>\n",
       "    </tr>\n",
       "    <tr>\n",
       "      <th>std</th>\n",
       "      <td>14.491377</td>\n",
       "    </tr>\n",
       "    <tr>\n",
       "      <th>min</th>\n",
       "      <td>11.000000</td>\n",
       "    </tr>\n",
       "    <tr>\n",
       "      <th>25%</th>\n",
       "      <td>18.500000</td>\n",
       "    </tr>\n",
       "    <tr>\n",
       "      <th>50%</th>\n",
       "      <td>26.500000</td>\n",
       "    </tr>\n",
       "    <tr>\n",
       "      <th>75%</th>\n",
       "      <td>42.750000</td>\n",
       "    </tr>\n",
       "    <tr>\n",
       "      <th>max</th>\n",
       "      <td>46.000000</td>\n",
       "    </tr>\n",
       "  </tbody>\n",
       "</table>\n",
       "</div>"
      ],
      "text/plain": [
       "       number sold\n",
       "count    10.000000\n",
       "mean     29.000000\n",
       "std      14.491377\n",
       "min      11.000000\n",
       "25%      18.500000\n",
       "50%      26.500000\n",
       "75%      42.750000\n",
       "max      46.000000"
      ]
     },
     "execution_count": 44,
     "metadata": {},
     "output_type": "execute_result"
    }
   ],
   "source": [
    "\n",
    "################################################################\n",
    "# Then output the mean, median and mode for the number of items sold column.\n",
    "################################################################\n",
    "print('median:', df_new['number sold'].median())\n",
    "print('mode:', df_new['number sold'].mode())\n",
    "\n",
    "df_new.describe()\n",
    "\n"
   ]
  },
  {
   "cell_type": "code",
   "execution_count": 45,
   "metadata": {},
   "outputs": [],
   "source": [
    "\n",
    "################################################################\n",
    "# Finally, find out and print the correlation between the price \n",
    "# and number of items sold\n",
    "################################################################\n",
    "\n",
    "# need to convert the type (from object to float)\n",
    "df_new['price'] = df_new['price'].astype(float)\n",
    "# it took me 20 minutes and about 30 lines of practice code\n",
    "# to figure out this one line !!\n",
    "\n",
    "c = df_new['price'].corr(df_new['number sold'])\n",
    "\n"
   ]
  },
  {
   "cell_type": "markdown",
   "metadata": {},
   "source": [
    "# Module 8\n",
    "\n",
    "## Assignment 1\n",
    "\n",
    "\n",
    "\n",
    "\n",
    "\n",
    "\n",
    "Using what we learned during this module and your code from Assignment 1 Module 4, and Assignment 1 Module 5, Assignment 1 Module 6, Assignment 1 Module 7, along with all the data collected so far plot the following:\n",
    "\n",
    "A line graph showing the number of items sold against the price with labels \n",
    "\n",
    "A pie chart showing the percentage of each vegetable sold against the total number of vegetables sold\n",
    "\n",
    "A scatterplot of  vegetables sold against the price\n",
    "\n",
    "A distplot without the histogram showing the number of items sold against the price"
   ]
  },
  {
   "cell_type": "code",
   "execution_count": 46,
   "metadata": {},
   "outputs": [
    {
     "data": {
      "image/png": "[encoded data removed]",
      "text/plain": [
       "<Figure size 432x288 with 1 Axes>"
      ]
     },
     "metadata": {
      "needs_background": "light"
     },
     "output_type": "display_data"
    }
   ],
   "source": [
    "# we have now used the trilogy (numpy, pandas, matplolib)\n",
    "import matplotlib.pyplot as plt\n",
    "\n",
    "\n",
    "# A line graph showing the number of items sold against the price with labels \n",
    "\n",
    "plt.plot(df_new['number sold'],df_new['price'])\n",
    "plt.title('line plot of price vs number sold')\n",
    "plt.xlabel('number sold')\n",
    "plt.ylabel('price')\n",
    "plt.show()\n",
    "\n",
    "\n"
   ]
  },
  {
   "cell_type": "code",
   "execution_count": 47,
   "metadata": {},
   "outputs": [
    {
     "data": {
      "image/png": "[encoded data removed]",
      "text/plain": [
       "<Figure size 432x288 with 1 Axes>"
      ]
     },
     "metadata": {},
     "output_type": "display_data"
    }
   ],
   "source": [
    "# A pie chart showing the percentage of each vegetable sold \n",
    "# against the total number of vegetables sold\n",
    "\n",
    "from matplotlib import rcParams\n",
    "\n",
    "\n",
    "plt.figure().set_facecolor(\"grey\")\n",
    "plt.pie(df_new['number sold'], \n",
    "        labels=df_new['vegetable'],\n",
    "        autopct='%1.1f%%', \n",
    "        shadow=True)\n",
    "plt.title('pie chart number sold')\n",
    "\n",
    "plt.show()"
   ]
  },
  {
   "cell_type": "code",
   "execution_count": 48,
   "metadata": {},
   "outputs": [
    {
     "data": {
      "image/png": "[encoded data removed]",
      "text/plain": [
       "<Figure size 432x288 with 1 Axes>"
      ]
     },
     "metadata": {
      "needs_background": "light"
     },
     "output_type": "display_data"
    }
   ],
   "source": [
    "# A scatterplot of  vegetables sold against the price\n",
    "\n",
    "\n",
    "plt.scatter(df_new['number sold'],df_new['price'])\n",
    "plt.title('line plot of price vs number sold')\n",
    "plt.xlabel('number sold')\n",
    "plt.ylabel('price')\n",
    "plt.show()"
   ]
  },
  {
   "cell_type": "code",
   "execution_count": 49,
   "metadata": {},
   "outputs": [
    {
     "data": {
      "image/png": "[encoded data removed]",
      "text/plain": [
       "<Figure size 360x360 with 1 Axes>"
      ]
     },
     "metadata": {
      "needs_background": "light"
     },
     "output_type": "display_data"
    },
    {
     "data": {
      "image/png": "[encoded data removed]",
      "text/plain": [
       "<Figure size 360x360 with 1 Axes>"
      ]
     },
     "metadata": {
      "needs_background": "light"
     },
     "output_type": "display_data"
    }
   ],
   "source": [
    "# A distplot without the histogram showing the number of items \n",
    "# sold against the price\n",
    "\n",
    "# distplot was depreciated !\n",
    "\n",
    "import seaborn as sns\n",
    "sns.displot(df_new, x='price', y='number sold')\n",
    "plt.title('number sold vs price')\n",
    "plt.show()\n",
    "\n",
    "sns.displot(df_new, x='price', y='number sold', kind=\"kde\")\n",
    "plt.title('number sold vs price')\n",
    "plt.show()"
   ]
  }
 ],
 "metadata": {
  "kernelspec": {
   "display_name": "Python 3.10.4 64-bit",
   "language": "python",
   "name": "python3"
  },
  "language_info": {
   "codemirror_mode": {
    "name": "ipython",
    "version": 3
   },
   "file_extension": ".py",
   "mimetype": "text/x-python",
   "name": "python",
   "nbconvert_exporter": "python",
   "pygments_lexer": "ipython3",
   "version": "3.10.4"
  },
  "orig_nbformat": 4,
  "vscode": {
   "interpreter": {
    "hash": "beedbe2faf2f7048d727558d0bc3221e7eba2a0b921cac4d4771b2feb8f74b30"
   }
  }
 },
 "nbformat": 4,
 "nbformat_minor": 2
}
