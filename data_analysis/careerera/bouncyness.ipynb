{
 "cells": [
  {
   "cell_type": "markdown",
   "metadata": {},
   "source": [
    "A standard science experiment is to drop a ball and see how high it bounces. Once the “bounciness” of the ball has been determined, the ratio gives a bounciness index. For example, if a ball dropped from a height of 10 meters bounces 6 meters high, the index is 0.6 and the total distance traveled by the ball is 16 meters after one bounce. If the ball were to continue bouncing, the distance after two bounces would be 10 meters + 6 meters + 6 meters + 3.6 meters = 25.6 meters. Note that distance traveled for each successive bounce is the distance to the floor plus 0.6 of that distance as the ball comes back up.\n",
    "\n",
    "Write a program that lets the user enter the initial height of the ball and the number of times the ball is allowed to continue bouncing. Output should be the total distance traveled by the ball.\n"
   ]
  },
  {
   "cell_type": "code",
   "execution_count": 11,
   "metadata": {},
   "outputs": [
    {
     "name": "stdout",
     "output_type": "stream",
     "text": [
      "number of bounces 12\n",
      "bounces [0, 100.6, 161.2, 197.79999999999998, 219.99999999999997, 233.55999999999997, 241.93599999999998, 247.20159999999998, 250.60096, 252.880576, 254.4883456, 255.69300736]\n",
      "total length travelled 255.69\n"
     ]
    }
   ],
   "source": [
    "\n",
    "\n",
    "\n",
    "\n",
    "def Bounce_Calculator(initial_height:float, bouncyness:float, \n",
    "    len_travelled=0):\n",
    "    ''' takes height and bouncyness and returns then next bounce \n",
    "    '''\n",
    "\n",
    "    next_bounce = initial_height * bouncyness\n",
    "    len_travelled += initial_height + bouncyness\n",
    "\n",
    "    return next_bounce, len_travelled\n",
    "\n",
    "# initial conditions\n",
    "len_trav = 0\n",
    "list_of_cycles = [0]\n",
    "h = 100\n",
    "b = 0.6\n",
    "stop_frac = 0.005\n",
    "# the loop\n",
    "for i in range(1, 100):\n",
    "\n",
    "    h, len_trav = Bounce_Calculator(h, b, len_trav)\n",
    "    list_of_cycles.append(len_trav)\n",
    "    percent_moved = (list_of_cycles[i]-list_of_cycles[i-1]) / list_of_cycles[i]\n",
    "\n",
    "    if percent_moved < stop_frac:\n",
    "        # stopped bouncing\n",
    "        break\n",
    "\n",
    "print('number of bounces', len(list_of_cycles))\n",
    "print('bounces', list_of_cycles)\n",
    "print('total length travelled', round(len_trav, 2))\n",
    "\n"
   ]
  }
 ],
 "metadata": {
  "kernelspec": {
   "display_name": "Python 3.10.4 64-bit",
   "language": "python",
   "name": "python3"
  },
  "language_info": {
   "codemirror_mode": {
    "name": "ipython",
    "version": 3
   },
   "file_extension": ".py",
   "mimetype": "text/x-python",
   "name": "python",
   "nbconvert_exporter": "python",
   "pygments_lexer": "ipython3",
   "version": "3.10.4"
  },
  "orig_nbformat": 4,
  "vscode": {
   "interpreter": {
    "hash": "beedbe2faf2f7048d727558d0bc3221e7eba2a0b921cac4d4771b2feb8f74b30"
   }
  }
 },
 "nbformat": 4,
 "nbformat_minor": 2
}
